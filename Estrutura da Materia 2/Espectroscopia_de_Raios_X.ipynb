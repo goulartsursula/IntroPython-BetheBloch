{
  "nbformat": 4,
  "nbformat_minor": 0,
  "metadata": {
    "colab": {
      "name": "Espectroscopia de Raios X",
      "provenance": [],
      "authorship_tag": "ABX9TyNyS2WaiArKFVPdg50aCn8/",
      "include_colab_link": true
    },
    "kernelspec": {
      "name": "python3",
      "display_name": "Python 3"
    },
    "language_info": {
      "name": "python"
    }
  },
  "cells": [
    {
      "cell_type": "markdown",
      "metadata": {
        "id": "view-in-github",
        "colab_type": "text"
      },
      "source": [
        "<a href=\"https://colab.research.google.com/github/goulartsursula/IntroPython-BetheBloch/blob/main/Estrutura%20da%20Materia%202/Espectroscopia_de_Raios_X.ipynb\" target=\"_parent\"><img src=\"https://colab.research.google.com/assets/colab-badge.svg\" alt=\"Open In Colab\"/></a>"
      ]
    },
    {
      "cell_type": "markdown",
      "metadata": {
        "id": "iaVp44PQ1dCJ"
      },
      "source": [
        "##Tratamento de dados\n",
        "\n",
        "> É necessário converter ângulo para comprimento de onda.\n",
        "> $2 \\ d \\ \\sin(\\theta) = n \\ \\lambda$\n",
        "\n",
        "d: distância\n",
        "\n",
        "$\\lambda$ : comprimento de onda\n",
        "\n",
        "$\\theta$ : ângulo\n",
        "\n",
        "n : máximo de interferência\n",
        "\n",
        "h : constante de Planck\n",
        "> 6,6207.10-34 m².kg/s\n",
        "\n",
        "c : velocidade da luz\n",
        "> 299 792 458 m / s\n",
        "\n"
      ]
    },
    {
      "cell_type": "code",
      "metadata": {
        "id": "_IxHGEKHZyOh"
      },
      "source": [
        "import numpy as np\n",
        "import matplotlib.pyplot as plt\n",
        "import pandas as pd"
      ],
      "execution_count": 1,
      "outputs": []
    },
    {
      "cell_type": "markdown",
      "metadata": {
        "id": "KgJqBr7fDYDG"
      },
      "source": [
        "### 1. Dados"
      ]
    },
    {
      "cell_type": "code",
      "metadata": {
        "id": "oMWJ6rf-DbDG"
      },
      "source": [
        "d_litio = 201.4e-12\n",
        "d_potassio = 329.5e-12\n",
        "h = 6.6207e-34\n",
        "c = 2.99792458e8\n",
        "n1 = 1\n",
        "n2 = 2\n",
        "k_alfa = 8048 \n",
        "k_beta = 8905\n",
        "eletronvolt = 1.60217733e-19\n",
        "t = 9e-5\n",
        "i01 = 1295.8 \n",
        "i02 = 4432.8"
      ],
      "execution_count": 40,
      "outputs": []
    },
    {
      "cell_type": "markdown",
      "metadata": {
        "id": "g6hkzlOl6Q0t"
      },
      "source": [
        "###2. Espectro de Raios X - Fluoreto de Lítio (LiF)\n",
        "\n",
        "\n"
      ]
    },
    {
      "cell_type": "code",
      "metadata": {
        "colab": {
          "base_uri": "https://localhost:8080/"
        },
        "id": "hoJePu0V1LGF",
        "outputId": "c06d35cb-47ca-4eab-edd5-135d051a40fd"
      },
      "source": [
        "datalif = pd.read_csv('Dados_EspectroscopiaRX_LiF.dat', sep='\\s+')\n",
        "datalif['thetarad'] = datalif['theta']*(np.pi/180)\n",
        "\n",
        "#Calculando o niveis de energia da primeira ordem\n",
        "\n",
        "litio_lamb11 = (2 * d_litio * np.sin(20.2*(np.pi/180)))/n1\n",
        "litio_lamb12 = (2 * d_litio * np.sin(22.5*(np.pi/180)))/n1\n",
        "litio_energia11 = ((h * c)/litio_lamb11) / eletronvolt\n",
        "litio_energia12 = ((h * c)/litio_lamb12) / eletronvolt\n",
        "\n",
        "print('Comprimento de onda 11:', litio_lamb11, '\\nComprimento de onda 12:', litio_lamb12, '\\nEnergia 11:', litio_energia11, '\\nEnergia 12:', litio_energia12, '\\n----------------')\n",
        "\n",
        "#Calculando o niveis de energia da segunda ordem\n",
        "\n",
        "litio_lamb21 = (2 * d_litio * np.sin(43.7*(np.pi/180)))/n2\n",
        "litio_lamb22 = (2 * d_litio * np.sin(49.9*(np.pi/180)))/n2\n",
        "litio_energia21 = ((h * c)/litio_lamb21) / eletronvolt\n",
        "litio_energia22 = ((h * c)/litio_lamb22) / eletronvolt\n",
        "\n",
        "print('Comprimento de onda 21:', litio_lamb21, '\\nComprimento de onda 22:', litio_lamb22, '\\nEnergia 21:', litio_energia21, '\\nEnergia 22:', litio_energia22)"
      ],
      "execution_count": 160,
      "outputs": [
        {
          "output_type": "stream",
          "text": [
            "Comprimento de onda 11: 1.3908611455660976e-10 \n",
            "Comprimento de onda 12: 1.5414488655665816e-10 \n",
            "Energia 11: 8906.975441486202 \n",
            "Energia 12: 8036.832322375531 \n",
            "----------------\n",
            "Comprimento de onda 21: 1.391437175908793e-10 \n",
            "Comprimento de onda 22: 1.5405517014497216e-10 \n",
            "Energia 21: 8903.288111432952 \n",
            "Energia 22: 8041.512696014449\n"
          ],
          "name": "stdout"
        }
      ]
    },
    {
      "cell_type": "markdown",
      "metadata": {
        "id": "B4Q6KjJMA3ol"
      },
      "source": [
        "###3. Espectro de Raios X - Brometo de Potássio (KBr)"
      ]
    },
    {
      "cell_type": "code",
      "metadata": {
        "colab": {
          "base_uri": "https://localhost:8080/"
        },
        "id": "PIjcsg3Y4neX",
        "outputId": "43e32c4f-7c4c-49a4-f56c-be4934e364c5"
      },
      "source": [
        "datakbr = pd.read_csv('Dados_ExpectroscopiaRX_KBr.dat', sep='\\s+')\n",
        "datakbr['thetarad'] = datakbr['theta']*(np.pi/180)\n",
        "\n",
        "#Calculando o niveis de energia da primeira ordem\n",
        "\n",
        "potassio_lamb11 = (2 * d_potassio * np.sin(12.1*(np.pi/180)))/n1\n",
        "potassio_lamb12 = (2 * d_potassio * np.sin(13.4*(np.pi/180)))/n1\n",
        "potassio_energia11 = ((h * c)/potassio_lamb11) / eletronvolt\n",
        "potassio_energia12 = ((h * c)/potassio_lamb12) / eletronvolt\n",
        "\n",
        "print('Comprimento de onda 11:', potassio_lamb11, '\\nComprimento de onda 12:', potassio_lamb12, '\\nEnergia 11:', potassio_energia11, '\\nEnergia 12:', potassio_energia12,'\\n-------------------')\n",
        "\n",
        "#Calculando o niveis de energia da segunda ordem\n",
        "\n",
        "potassio_lamb21 = (2 * d_potassio * np.sin(24.9*(np.pi/180)))/n2\n",
        "potassio_lamb22 = (2 * d_potassio * np.sin(27.9*(np.pi/180)))/n2\n",
        "potassio_energia21 = ((h * c)/potassio_lamb21) / eletronvolt\n",
        "potassio_energia22 = ((h * c)/potassio_lamb22) / eletronvolt\n",
        "\n",
        "print('Comprimento de onda 21:', potassio_lamb21, '\\nComprimento de onda 22:', potassio_lamb22,'\\nEnergia 21:', potassio_energia21, '\\nEnergia 22:', potassio_energia22)\n",
        "\n",
        "plt.show()"
      ],
      "execution_count": 30,
      "outputs": [
        {
          "output_type": "stream",
          "text": [
            "Comprimento de onda 11: 1.3813863295361857e-10 \n",
            "Comprimento de onda 12: 1.527218684026497e-10 \n",
            "Energia 11: 8968.06765869336 \n",
            "Energia 12: 8111.717199145831 \n",
            "-------------------\n",
            "Comprimento de onda 21: 1.3873130050458829e-10 \n",
            "Comprimento de onda 22: 1.541828737988589e-10 \n",
            "Energia 21: 8929.755593017651 \n",
            "Energia 22: 8034.852225050615\n"
          ],
          "name": "stdout"
        }
      ]
    },
    {
      "cell_type": "markdown",
      "metadata": {
        "id": "cwpFCTXxLCaB"
      },
      "source": [
        "### 4. Espectro de absorção de raios X"
      ]
    },
    {
      "cell_type": "code",
      "metadata": {
        "colab": {
          "base_uri": "https://localhost:8080/",
          "height": 323
        },
        "id": "MlfF-TqFzMqD",
        "outputId": "7a9f9032-6307-4a80-99ff-157562b9ca6f"
      },
      "source": [
        "#Correcao do tempo morto\n",
        "\n",
        "data = pd.read_csv('Dados_Absorcao_Media.txt', sep='\\s+')\n",
        "\n",
        "data['n1'] = data['I1']/(1-(t*data['I1']))\n",
        "data['n2'] = data['I2']/(1-(t*data['I2']))\n",
        "data['n1/i01'] = data['n1']/i01 \n",
        "data['n2/i02'] = data['n2']/i02\n",
        "data['log(n1/i01)'] = np.log(data['n1']/i01) \n",
        "data['log(n2/i02)'] = np.log(data['n2']/i02)\n",
        "\n",
        "#Ajuste Linear Primeiro Pico\n",
        "\n",
        "x = data['d']\n",
        "y = np.log(data['n1/i01'])\n",
        "\n",
        "def lsq_sq(x, y):  \n",
        "  n = np.size(x)\n",
        "  mx, my = np.mean(x), np.mean(y)\n",
        "\n",
        "  cov = np.mean(x * y) - mx * my\n",
        "  var = np.var(x)\n",
        "\n",
        "  a = cov/var\n",
        "  b = my - a *mx\n",
        "\n",
        "  ey = np.sqrt(np.sum(np.power(y - (a * x + b),2) / (n - 2)))\n",
        "  \n",
        "  erro_a = ey / (np.sqrt(var) * np.sqrt(n))\n",
        "  erro_b = erro_a * np.sqrt(np.mean(np.power(x, 2)))\n",
        "\n",
        "  print(f'y = ({a} +- {erro_a})x +' + f'( {b} +- {erro_b})')\n",
        "  return a, erro_a, b, erro_b\n",
        "\n",
        "parametros = lsq_sq(x, y)\n",
        "\n",
        "#Ajuste Linear Segundo Pico\n",
        "\n",
        "r = data['d']\n",
        "s = np.log(data['n2/i02'])\n",
        "\n",
        "def lsq_sq(r, s):  \n",
        "  n = np.size(s)\n",
        "  mr, ms = np.mean(r), np.mean(s)\n",
        "\n",
        "  cov = np.mean(r * s) - mr * ms\n",
        "  var = np.var(r)\n",
        "\n",
        "  c = cov/var\n",
        "  d = ms - c *mr\n",
        "\n",
        "  es = np.sqrt(np.sum(np.power(s - (c * r + d),2) / (n - 2)))\n",
        "  \n",
        "  erro_c = es / (np.sqrt(var) * np.sqrt(n))\n",
        "  erro_d = erro_c * np.sqrt(np.mean(np.power(r, 2)))\n",
        "\n",
        "  print(f'y = ({c} +- {erro_c})x +' + f'( {d} +- {erro_d})')\n",
        "  return c, erro_c, d, erro_d\n",
        "\n",
        "parametro = lsq_sq(r, s)\n",
        "data.head(10)"
      ],
      "execution_count": 157,
      "outputs": [
        {
          "output_type": "stream",
          "text": [
            "y = (-9.430138623118964 +- 0.39971269190365366)x +( -0.011947128596654366 +- 0.047631264440259044)\n",
            "y = (-13.88174984217387 +- 0.38484352639980196)x +( 0.4668294720285271 +- 0.045859398876654044)\n"
          ],
          "name": "stdout"
        },
        {
          "output_type": "execute_result",
          "data": {
            "text/html": [
              "<div>\n",
              "<style scoped>\n",
              "    .dataframe tbody tr th:only-of-type {\n",
              "        vertical-align: middle;\n",
              "    }\n",
              "\n",
              "    .dataframe tbody tr th {\n",
              "        vertical-align: top;\n",
              "    }\n",
              "\n",
              "    .dataframe thead th {\n",
              "        text-align: right;\n",
              "    }\n",
              "</style>\n",
              "<table border=\"1\" class=\"dataframe\">\n",
              "  <thead>\n",
              "    <tr style=\"text-align: right;\">\n",
              "      <th></th>\n",
              "      <th>d</th>\n",
              "      <th>I1</th>\n",
              "      <th>I2</th>\n",
              "      <th>n1</th>\n",
              "      <th>n2</th>\n",
              "      <th>n1/i01</th>\n",
              "      <th>n2/i02</th>\n",
              "      <th>log(n1/i01)</th>\n",
              "      <th>log(n2/i02)</th>\n",
              "    </tr>\n",
              "  </thead>\n",
              "  <tbody>\n",
              "    <tr>\n",
              "      <th>0</th>\n",
              "      <td>0.04</td>\n",
              "      <td>849.6</td>\n",
              "      <td>3015.8</td>\n",
              "      <td>919.942482</td>\n",
              "      <td>4139.295999</td>\n",
              "      <td>0.709942</td>\n",
              "      <td>0.933788</td>\n",
              "      <td>-0.342572</td>\n",
              "      <td>-0.068506</td>\n",
              "    </tr>\n",
              "    <tr>\n",
              "      <th>1</th>\n",
              "      <td>0.06</td>\n",
              "      <td>657.4</td>\n",
              "      <td>2377.8</td>\n",
              "      <td>698.741755</td>\n",
              "      <td>3025.198537</td>\n",
              "      <td>0.539236</td>\n",
              "      <td>0.682458</td>\n",
              "      <td>-0.617602</td>\n",
              "      <td>-0.382055</td>\n",
              "    </tr>\n",
              "    <tr>\n",
              "      <th>2</th>\n",
              "      <td>0.08</td>\n",
              "      <td>554.8</td>\n",
              "      <td>1796.6</td>\n",
              "      <td>583.958201</td>\n",
              "      <td>2143.131506</td>\n",
              "      <td>0.450655</td>\n",
              "      <td>0.483471</td>\n",
              "      <td>-0.797054</td>\n",
              "      <td>-0.726763</td>\n",
              "    </tr>\n",
              "    <tr>\n",
              "      <th>3</th>\n",
              "      <td>0.10</td>\n",
              "      <td>453.0</td>\n",
              "      <td>1575.0</td>\n",
              "      <td>472.253787</td>\n",
              "      <td>1835.129624</td>\n",
              "      <td>0.364450</td>\n",
              "      <td>0.413989</td>\n",
              "      <td>-1.009367</td>\n",
              "      <td>-0.881916</td>\n",
              "    </tr>\n",
              "    <tr>\n",
              "      <th>4</th>\n",
              "      <td>0.12</td>\n",
              "      <td>419.0</td>\n",
              "      <td>1258.0</td>\n",
              "      <td>435.419676</td>\n",
              "      <td>1418.615666</td>\n",
              "      <td>0.336024</td>\n",
              "      <td>0.320027</td>\n",
              "      <td>-1.090573</td>\n",
              "      <td>-1.139350</td>\n",
              "    </tr>\n",
              "    <tr>\n",
              "      <th>5</th>\n",
              "      <td>0.14</td>\n",
              "      <td>354.0</td>\n",
              "      <td>937.0</td>\n",
              "      <td>365.649596</td>\n",
              "      <td>1023.294418</td>\n",
              "      <td>0.282181</td>\n",
              "      <td>0.230846</td>\n",
              "      <td>-1.265208</td>\n",
              "      <td>-1.466004</td>\n",
              "    </tr>\n",
              "    <tr>\n",
              "      <th>6</th>\n",
              "      <td>0.16</td>\n",
              "      <td>273.8</td>\n",
              "      <td>726.8</td>\n",
              "      <td>280.717439</td>\n",
              "      <td>777.668877</td>\n",
              "      <td>0.216636</td>\n",
              "      <td>0.175435</td>\n",
              "      <td>-1.529535</td>\n",
              "      <td>-1.740486</td>\n",
              "    </tr>\n",
              "    <tr>\n",
              "      <th>7</th>\n",
              "      <td>0.18</td>\n",
              "      <td>222.4</td>\n",
              "      <td>529.4</td>\n",
              "      <td>226.942481</td>\n",
              "      <td>555.885732</td>\n",
              "      <td>0.175137</td>\n",
              "      <td>0.125403</td>\n",
              "      <td>-1.742187</td>\n",
              "      <td>-2.076224</td>\n",
              "    </tr>\n",
              "  </tbody>\n",
              "</table>\n",
              "</div>"
            ],
            "text/plain": [
              "      d     I1      I2  ...    n2/i02  log(n1/i01)  log(n2/i02)\n",
              "0  0.04  849.6  3015.8  ...  0.933788    -0.342572    -0.068506\n",
              "1  0.06  657.4  2377.8  ...  0.682458    -0.617602    -0.382055\n",
              "2  0.08  554.8  1796.6  ...  0.483471    -0.797054    -0.726763\n",
              "3  0.10  453.0  1575.0  ...  0.413989    -1.009367    -0.881916\n",
              "4  0.12  419.0  1258.0  ...  0.320027    -1.090573    -1.139350\n",
              "5  0.14  354.0   937.0  ...  0.230846    -1.265208    -1.466004\n",
              "6  0.16  273.8   726.8  ...  0.175435    -1.529535    -1.740486\n",
              "7  0.18  222.4   529.4  ...  0.125403    -1.742187    -2.076224\n",
              "\n",
              "[8 rows x 9 columns]"
            ]
          },
          "metadata": {
            "tags": []
          },
          "execution_count": 157
        }
      ]
    },
    {
      "cell_type": "markdown",
      "metadata": {
        "id": "IPNmCOJY-bHh"
      },
      "source": [
        "### 5. Gráficos"
      ]
    },
    {
      "cell_type": "code",
      "metadata": {
        "colab": {
          "base_uri": "https://localhost:8080/",
          "height": 1000
        },
        "id": "LEHuQt-P-xvR",
        "outputId": "9c6b6653-c73b-4b39-ab66-42abcd513e1f"
      },
      "source": [
        "#Espectro de Raios X - Fluoreto de Lítio (LiF) - I x theta\n",
        "plt.plot(datalif['theta'], datalif['I'])\n",
        "plt.title('Espectro de Raios X - Fluoreto de Lítio (LiF) - $I$ x $\\Theta$\\n')\n",
        "plt.xlabel('$\\Theta_n$')\n",
        "plt.ylabel('I')\n",
        "plt.show()\n",
        "\n",
        "#Espectro de Raios X - Brometo de Potássio (KBr) - I x theta\n",
        "plt.plot(datakbr['theta'], datakbr['I'], color='red')\n",
        "plt.title('Espectro de Raios X - Brometo de Potássio (KBr) - $I$ x $\\Theta$\\n')\n",
        "plt.xlabel('$\\Theta_n$')\n",
        "plt.ylabel('I')\n",
        "plt.show()\n",
        "\n",
        "#Espectro Absorcao - I/I0 x d\n",
        "plt.scatter(data['d'], data['n1/i01'], marker='+', color='red')\n",
        "plt.scatter(data['d'], data['n2/i02'], marker='+',color='blue')\n",
        "plt.title('Espectro de Absorção\\n')\n",
        "plt.xlabel('d')\n",
        "plt.ylabel('I/I_0')\n",
        "plt.show()\n",
        "\n",
        "#Gráfico do Ajuste Linear\n",
        "\n",
        "plt.scatter(data['d'], np.log(data['n1/i01']), marker='+', color='red')\n",
        "plt.plot(data['d'], parametros[0]*data['d']+parametros[2], color='red')\n",
        "\n",
        "plt.scatter(data['d'], np.log(data['n2/i02']), marker='+', color='blue')\n",
        "plt.plot(data['d'], parametro[0]*data['d']+parametro[2], color='blue')\n",
        "plt.title('Retas ajustadas $ln (I/I_0)$ x $d$\\n')\n",
        "plt.xlabel('d (mm)')\n",
        "plt.ylabel('$ln(I/I_0)$')\n",
        "plt.show()"
      ],
      "execution_count": 161,
      "outputs": [
        {
          "output_type": "display_data",
          "data": {
            "image/png": "[encoded data removed]",
            "text/plain": [
              "<Figure size 432x288 with 1 Axes>"
            ]
          },
          "metadata": {
            "tags": [],
            "needs_background": "light"
          }
        },
        {
          "output_type": "display_data",
          "data": {
            "image/png": "[encoded data removed]",
            "text/plain": [
              "<Figure size 432x288 with 1 Axes>"
            ]
          },
          "metadata": {
            "tags": [],
            "needs_background": "light"
          }
        },
        {
          "output_type": "display_data",
          "data": {
            "image/png": "[encoded data removed]",
            "text/plain": [
              "<Figure size 432x288 with 1 Axes>"
            ]
          },
          "metadata": {
            "tags": [],
            "needs_background": "light"
          }
        },
        {
          "output_type": "display_data",
          "data": {
            "image/png": "[encoded data removed]",
            "text/plain": [
              "<Figure size 432x288 with 1 Axes>"
            ]
          },
          "metadata": {
            "tags": [],
            "needs_background": "light"
          }
        }
      ]
    }
  ]
}